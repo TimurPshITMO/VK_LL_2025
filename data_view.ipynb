{
 "cells": [
  {
   "cell_type": "code",
   "execution_count": 1,
   "id": "5abb3250",
   "metadata": {},
   "outputs": [],
   "source": [
    "import pandas as pd\n",
    "import seaborn as sns\n",
    "import matplotlib.pyplot as plt"
   ]
  },
  {
   "cell_type": "code",
   "execution_count": 2,
   "id": "4bc12a7e",
   "metadata": {},
   "outputs": [],
   "source": [
    "users_data = pd.read_csv('users.tsv',sep='\\t')\n",
    "history_data = pd.read_csv('history.tsv',sep='\\t')\n",
    "validate_data = pd.read_csv('validate.tsv',sep='\\t')\n",
    "validate_ans_data = pd.read_csv('validate_answers.tsv',sep='\\t')"
   ]
  },
  {
   "cell_type": "code",
   "execution_count": 3,
   "id": "434cbbfe",
   "metadata": {},
   "outputs": [
    {
     "name": "stdout",
     "output_type": "stream",
     "text": [
      "<class 'pandas.core.frame.DataFrame'>\n",
      "RangeIndex: 1147857 entries, 0 to 1147856\n",
      "Data columns (total 4 columns):\n",
      " #   Column     Non-Null Count    Dtype  \n",
      "---  ------     --------------    -----  \n",
      " 0   hour       1147857 non-null  int64  \n",
      " 1   cpm        1147857 non-null  float64\n",
      " 2   publisher  1147857 non-null  int64  \n",
      " 3   user_id    1147857 non-null  int64  \n",
      "dtypes: float64(1), int64(3)\n",
      "memory usage: 35.0 MB\n"
     ]
    }
   ],
   "source": [
    "history_data.info()"
   ]
  },
  {
   "cell_type": "code",
   "execution_count": 10,
   "id": "689704f3",
   "metadata": {},
   "outputs": [
    {
     "data": {
      "text/plain": [
       "(array([   30.,     0.,     0.,     0.,     0., 14515.,     0.,     0.,\n",
       "            0., 13224.]),\n",
       " array([0. , 0.2, 0.4, 0.6, 0.8, 1. , 1.2, 1.4, 1.6, 1.8, 2. ]),\n",
       " <BarContainer object of 10 artists>)"
      ]
     },
     "execution_count": 10,
     "metadata": {},
     "output_type": "execute_result"
    },
    {
     "data": {
      "image/png": "[encoded data removed]",
      "text/plain": [
       "<Figure size 432x288 with 1 Axes>"
      ]
     },
     "metadata": {
      "needs_background": "light"
     },
     "output_type": "display_data"
    }
   ],
   "source": [
    "plt.hist(users_data['sex'])"
   ]
  },
  {
   "cell_type": "code",
   "execution_count": 15,
   "id": "c9a10130",
   "metadata": {},
   "outputs": [
    {
     "data": {
      "text/plain": [
       "(array([2180., 9201., 9427., 4263., 1406.,  557.,  111.,   51.,  143.,\n",
       "         430.]),\n",
       " array([  0. ,  11.8,  23.6,  35.4,  47.2,  59. ,  70.8,  82.6,  94.4,\n",
       "        106.2, 118. ]),\n",
       " <BarContainer object of 10 artists>)"
      ]
     },
     "execution_count": 15,
     "metadata": {},
     "output_type": "execute_result"
    },
    {
     "data": {
      "image/png": "[encoded data removed]",
      "text/plain": [
       "<Figure size 432x288 with 1 Axes>"
      ]
     },
     "metadata": {
      "needs_background": "light"
     },
     "output_type": "display_data"
    }
   ],
   "source": [
    "plt.hist(users_data['age'], edgecolor='black')"
   ]
  },
  {
   "cell_type": "code",
   "execution_count": null,
   "id": "11257b7c",
   "metadata": {},
   "outputs": [],
   "source": []
  }
 ],
 "metadata": {
  "kernelspec": {
   "display_name": "base",
   "language": "python",
   "name": "python3"
  },
  "language_info": {
   "codemirror_mode": {
    "name": "ipython",
    "version": 3
   },
   "file_extension": ".py",
   "mimetype": "text/x-python",
   "name": "python",
   "nbconvert_exporter": "python",
   "pygments_lexer": "ipython3",
   "version": "3.9.12"
  }
 },
 "nbformat": 4,
 "nbformat_minor": 5
}
